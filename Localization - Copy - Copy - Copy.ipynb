{
 "cells": [
  {
   "cell_type": "markdown",
   "metadata": {},
   "source": [
    "## Libraries and Prerequisite"
   ]
  },
  {
   "cell_type": "code",
   "execution_count": 74,
   "metadata": {
    "colab": {
     "base_uri": "https://localhost:8080/"
    },
    "id": "O6CZJZFQJQBh",
    "outputId": "9db4887f-e25b-4f1f-af32-5172040e17c5"
   },
   "outputs": [],
   "source": [
    "import tensorflow as tf\n",
    "#tensorflow.random.set_seed(x)\n",
    "from tensorflow import keras\n",
    "from keras.models import Sequential, Model\n",
    "from keras.layers import Input, Dense, Reshape, Flatten\n",
    "from keras.layers import BatchNormalization\n",
    "from keras.layers.advanced_activations import LeakyReLU\n",
    "from tensorflow.keras.optimizers import Adam\n",
    "#from keras.optimizers import Adam\n",
    "from keras.backend import clear_session\n",
    "from tensorflow.keras.utils import to_categorical\n",
    "from sklearn.utils import shuffle\n",
    "from sklearn.model_selection import train_test_split\n",
    "from sklearn.preprocessing import StandardScaler\n",
    "from sklearn.preprocessing import MinMaxScaler\n",
    "from tqdm import tqdm_notebook\n",
    "from tqdm import tqdm\n",
    "from numpy.random import seed\n",
    "#from tensorflow import set_random_seed\n",
    "from IPython.display import display\n",
    "import pandas as pd\n",
    "import numpy as np\n",
    "import matplotlib.pyplot as plt\n",
    "import ipywidgets as widgets\n",
    "from ipywidgets import *"
   ]
  },
  {
   "cell_type": "markdown",
   "metadata": {
    "id": "LD6568Gti5Rj"
   },
   "source": [
    "## Parameters"
   ]
  },
  {
   "cell_type": "code",
   "execution_count": 75,
   "metadata": {
    "id": "02ZHiSPXdwkA"
   },
   "outputs": [],
   "source": [
    "#Data Parameters\n",
    "num_of_classes = 25\n",
    "data_shape = (8,1)\n",
    "\n",
    "#MLP Parameters\n",
    "times_to_run = 25 #Number of times to run MLP model\n",
    "mlp_epochs = 20\n",
    "valid_split = 0.10\n",
    "\n",
    "#GAN Parameters\n",
    "latent_dim = 50\n",
    "gan_epochs = 2500\n",
    "\n",
    "#Random Seeds\n",
    "selection_seed = 75\n",
    "seed_multiplier = 500000"
   ]
  },
  {
   "cell_type": "code",
   "execution_count": 76,
   "metadata": {},
   "outputs": [
    {
     "name": "stdout",
     "output_type": "stream",
     "text": [
      "Percentage of Real Data:\n"
     ]
    },
    {
     "data": {
      "application/vnd.jupyter.widget-view+json": {
       "model_id": "5703a58c629d4e1b94268ec1ef668365",
       "version_major": 2,
       "version_minor": 0
      },
      "text/plain": [
       "FloatSlider(value=0.8, max=1.0, min=0.05, step=0.05)"
      ]
     },
     "metadata": {},
     "output_type": "display_data"
    },
    {
     "name": "stdout",
     "output_type": "stream",
     "text": [
      "Number of datapoints GAN generates:\n"
     ]
    },
    {
     "data": {
      "application/vnd.jupyter.widget-view+json": {
       "model_id": "4a1ef93c66f94587a19052935b4312e4",
       "version_major": 2,
       "version_minor": 0
      },
      "text/plain": [
       "VBox(children=(IntSlider(value=125, max=625, step=125),))"
      ]
     },
     "metadata": {},
     "output_type": "display_data"
    },
    {
     "data": {
      "application/vnd.jupyter.widget-view+json": {
       "model_id": "f753579bcf834e41856d200d9af41f9f",
       "version_major": 2,
       "version_minor": 0
      },
      "text/plain": [
       "Checkbox(value=False, description='Generate missing data only')"
      ]
     },
     "metadata": {},
     "output_type": "display_data"
    }
   ],
   "source": [
    "cb1 = widgets.Checkbox(description=\"Generate missing data only\")\n",
    "slider1 = widgets.FloatSlider(value=0.8, min=0.05, max=1, step=0.05)\n",
    "slider2 = widgets.IntSlider(value=125, min=0, max=625, step=125)\n",
    "vb = VBox(children = [slider2])\n",
    "def checkbox(button):\n",
    "    if button['new']:\n",
    "        vb.children = []\n",
    "        slider2.value = 25 - int(slider1.value*250) \n",
    "    else:\n",
    "        vb.children = [slider2]\n",
    "        experiment3 = False\n",
    "cb1.observe(checkbox, names='value')\n",
    "\n",
    "print(\"Percentage of Real Data:\")\n",
    "display(slider1)\n",
    "print(\"Number of datapoints GAN generates:\")\n",
    "display(vb)\n",
    "display(cb1)\n"
   ]
  },
  {
   "cell_type": "code",
   "execution_count": 77,
   "metadata": {},
   "outputs": [],
   "source": [
    "fraction_of_data = slider1.value\n",
    "data_to_gen = slider2.value"
   ]
  },
  {
   "cell_type": "code",
   "execution_count": 78,
   "metadata": {},
   "outputs": [
    {
     "data": {
      "text/plain": [
       "125"
      ]
     },
     "execution_count": 78,
     "metadata": {},
     "output_type": "execute_result"
    }
   ],
   "source": [
    "data_to_gen"
   ]
  },
  {
   "cell_type": "markdown",
   "metadata": {
    "id": "9MsAItkbKGyo"
   },
   "source": [
    "## Data preprocessing\n"
   ]
  },
  {
   "cell_type": "code",
   "execution_count": 79,
   "metadata": {
    "id": "MJC4EkTTR-nm"
   },
   "outputs": [
    {
     "data": {
      "text/plain": [
       "1251"
      ]
     },
     "execution_count": 79,
     "metadata": {},
     "output_type": "execute_result"
    }
   ],
   "source": [
    "dataset = pd.read_csv(\"./data/new_dataset_rssi_2.csv\")\n",
    "labels = dataset.Class.values\n",
    "labels = labels - 1 #Original label values are from 1 to 25\n",
    "features = dataset.drop(columns='Class').values\n",
    "len(features)\n"
   ]
  },
  {
   "cell_type": "code",
   "execution_count": 80,
   "metadata": {
    "id": "WLmpaIJr4dFd"
   },
   "outputs": [],
   "source": [
    "tr_fea, X_test, tr_label, Y_test = train_test_split(features, \n",
    "                                                    labels, \n",
    "                                                    test_size=0.5,\n",
    "                                                    random_state= selection_seed,\n",
    "                                                    stratify=labels)\n"
   ]
  },
  {
   "cell_type": "code",
   "execution_count": 81,
   "metadata": {},
   "outputs": [
    {
     "data": {
      "text/plain": [
       "array([18,  4, 18, 18, 16, 24,  3,  1, 20, 10,  8, 14,  7, 24,  0, 11, 21,\n",
       "        4, 17, 11, 11, 23,  8, 23,  9, 11, 12,  5, 18, 16, 21, 10, 10,  4,\n",
       "        9,  3, 17, 19,  4, 24, 20, 20, 16,  4, 11, 23, 23,  3, 18, 10, 16,\n",
       "       21, 22, 15, 23, 12, 20,  6, 19, 13, 18, 11, 18,  1,  6,  3, 21, 22,\n",
       "        1,  3, 20, 15,  9, 12,  2,  3, 14, 15,  5, 17,  0,  0, 13, 16, 17,\n",
       "       16, 23,  4, 18,  1, 17,  1, 15, 15, 14,  8,  0, 20, 23,  3,  9, 10,\n",
       "       14,  4, 11,  7,  6,  9, 13, 17,  2, 14, 11,  3,  4,  8,  9, 10, 21,\n",
       "        2, 15, 15,  1, 10, 11, 11,  4,  6,  3,  6,  8, 20, 10, 19, 10, 21,\n",
       "       22, 19, 12, 13, 16, 20, 13,  3,  9,  1, 15, 15,  1,  2, 22,  1, 17,\n",
       "        7, 17, 24,  6,  2,  9,  6,  9, 12, 23, 12, 18, 22,  0,  7, 16,  4,\n",
       "       18, 22,  8, 17, 14, 15, 24,  5,  0, 21, 15, 15, 21, 15, 12, 24,  5,\n",
       "        5, 16, 22, 22, 11, 19,  9, 14, 21,  2,  6, 10,  7, 15, 22,  7, 12,\n",
       "       11, 18, 18, 10,  8,  7, 13, 19,  3, 16, 21, 17,  7, 13, 11, 21, 18,\n",
       "       19, 13,  5,  0, 12,  8, 24, 13,  7,  6,  5,  5, 13,  3, 18,  9, 21,\n",
       "        4, 24,  5,  2, 21,  9, 20,  3, 24,  5, 23,  8, 17, 16, 16, 12, 20,\n",
       "       19, 10,  9,  2, 11,  7, 14,  3,  8,  2, 12,  8, 24, 19,  6, 24, 19,\n",
       "       11, 10,  5, 13,  4, 24,  9, 16, 23,  6, 14, 19,  9, 14, 12,  0, 21,\n",
       "        6,  8,  7, 16, 16, 15,  3, 24,  1, 14, 15, 14, 22, 24,  0, 21,  8,\n",
       "        7,  5, 14,  6,  7,  0,  5, 13, 10, 13,  9,  1, 11,  8, 23, 17,  1,\n",
       "       15,  8, 22,  7,  2, 18, 17, 24, 22,  5,  3, 22,  4,  1,  1, 17, 19,\n",
       "        9, 14,  7, 18, 23, 23,  6, 12, 18, 12,  1, 17,  2,  3,  7, 11,  8,\n",
       "        1,  3, 19,  0, 18, 22, 12,  5, 12, 18, 14, 15,  9, 21,  2,  4, 23,\n",
       "        7, 23, 18,  9, 14, 24, 21, 15, 22, 24, 19,  2, 14, 10, 17,  2, 21,\n",
       "       11, 13, 19,  3,  5,  4,  3, 20, 15,  1, 19,  8, 23, 19, 14, 22, 18,\n",
       "       19,  5, 21,  0, 11, 21, 12,  5,  8,  4,  0,  7,  0,  3, 16, 14, 20,\n",
       "       22,  0,  9, 19,  2, 17, 23, 20,  2, 21, 17, 17, 16, 12,  9, 12,  6,\n",
       "       13,  8,  0, 10, 22,  0,  5,  9,  7, 20,  8, 23, 20, 11,  1, 18,  4,\n",
       "        3,  0, 23, 22,  9, 23,  6, 23,  6, 24, 20,  8, 21, 18,  2, 12, 21,\n",
       "        6, 16, 14,  4,  3,  8, 17,  7, 13,  0,  6, 17,  1,  6, 11, 17, 15,\n",
       "        5,  2, 24, 13, 15,  3,  0,  4, 19, 20,  2, 24, 11,  5, 10,  5,  0,\n",
       "       17,  0,  9, 20, 10,  7,  2, 21, 14,  9, 20,  0,  2,  8, 12, 13, 23,\n",
       "       22, 20, 15, 10, 21, 13,  6,  7,  2, 16, 11, 12, 10,  4, 24,  8, 11,\n",
       "       13, 13, 22,  1, 14, 17, 13, 17, 19,  2, 12,  7,  2, 13, 24,  5, 16,\n",
       "       10,  1,  0, 18,  1,  7, 16,  2, 22,  1, 20,  6, 20, 22, 23, 13,  7,\n",
       "       10, 24,  4, 22, 11, 18, 19,  6, 23, 14,  6, 19,  5, 13, 20,  5, 15,\n",
       "       19,  0, 12, 10, 12,  4,  0, 14, 20, 20, 16,  6, 10, 16,  4,  4, 16,\n",
       "        4, 16, 23,  3, 10, 24,  1, 15,  8,  1, 24, 19, 14, 22],\n",
       "      dtype=int64)"
      ]
     },
     "execution_count": 81,
     "metadata": {},
     "output_type": "execute_result"
    }
   ],
   "source": [
    "Y_test\n"
   ]
  },
  {
   "cell_type": "code",
   "execution_count": 82,
   "metadata": {
    "id": "poLSMMSIZNkN"
   },
   "outputs": [],
   "source": [
    "X_train = []\n",
    "Z_train = [] #This is the same as X_train, but it's used for training the GAN\n",
    "Y_train = []\n",
    "\n",
    "for idx in range(25):\n",
    "    number_filter = np.where(tr_label == idx)\n",
    "    X_filtered, Y_filtered = tr_fea[number_filter], tr_label[number_filter]\n",
    "\n",
    "    num_of_data = (int)(fraction_of_data*X_filtered.shape[0])\n",
    "    RandIndex = np.random.choice(X_filtered.shape[0], \n",
    "                                 num_of_data, \n",
    "                                 replace=False)\n",
    "    Z_train.append(X_filtered[RandIndex])\n",
    "    X_train.extend(X_filtered[RandIndex])\n",
    "    Y_train.extend(Y_filtered[RandIndex])\n",
    "\n",
    "X_train = np.asarray(X_train, dtype=np.float32)\n",
    "Y_train = np.asarray(Y_train, dtype=np.float32)\n",
    "\n",
    "X_train, Y_train = shuffle(X_train, Y_train)\n",
    "\n",
    "Y_train_encoded = to_categorical(Y_train)\n",
    "Y_test_encoded = to_categorical(Y_test)"
   ]
  },
  {
   "cell_type": "code",
   "execution_count": 83,
   "metadata": {
    "id": "QwgSzR8gGyK3"
   },
   "outputs": [],
   "source": [
    "#Data must be standized using standard scaler before using the MLP.\n",
    "scaler = StandardScaler()\n",
    "X_train_transformed = scaler.fit_transform(X_train)\n",
    "X_test_transformed = scaler.fit_transform(X_test)"
   ]
  },
  {
   "cell_type": "code",
   "execution_count": 84,
   "metadata": {},
   "outputs": [
    {
     "data": {
      "text/plain": [
       "500"
      ]
     },
     "execution_count": 84,
     "metadata": {},
     "output_type": "execute_result"
    }
   ],
   "source": [
    "len(X_train_transformed)"
   ]
  },
  {
   "cell_type": "markdown",
   "metadata": {
    "id": "EKXtn23ztZOt"
   },
   "source": [
    "# Classification with MLP for Real Data"
   ]
  },
  {
   "cell_type": "code",
   "execution_count": 85,
   "metadata": {
    "colab": {
     "base_uri": "https://localhost:8080/",
     "height": 222,
     "referenced_widgets": [
      "242638032f3d448497a89e566a0729cc",
      "1c12d3a5f44f4a61bbeb2aa7a499fcfb",
      "c8784995eaa54ed084acc9f12a746c59",
      "187a15988ac943e6a3d1855725d1115a",
      "07ca9dda197f46e391f911867de47da6",
      "ad1a4cf935e544fa91265778f15ff117",
      "149f19108d984a6e8ec835992c0f75a2",
      "99a69a686ef44dd3bac52523cfa3febe"
     ]
    },
    "id": "OQbM_BZGkRq-",
    "outputId": "59faa767-f86c-4807-8ac6-3e4f9991063f"
   },
   "outputs": [
    {
     "name": "stderr",
     "output_type": "stream",
     "text": [
      "C:\\Users\\KMITL\\AppData\\Local\\Temp/ipykernel_19028/3153672149.py:5: TqdmDeprecationWarning: This function will be removed in tqdm==5.0.0\n",
      "Please use `tqdm.notebook.tqdm` instead of `tqdm.tqdm_notebook`\n",
      "  for i in tqdm_notebook(range(times_to_run)):\n"
     ]
    },
    {
     "data": {
      "application/vnd.jupyter.widget-view+json": {
       "model_id": "981be7cf6d2d465eaefd95b7df1e7db9",
       "version_major": 2,
       "version_minor": 0
      },
      "text/plain": [
       "  0%|          | 0/25 [00:00<?, ?it/s]"
      ]
     },
     "metadata": {},
     "output_type": "display_data"
    }
   ],
   "source": [
    "all_test_loss =[]\n",
    "all_test_acc = []\n",
    "history = []\n",
    "\n",
    "for i in tqdm_notebook(range(times_to_run)):\n",
    "    seed(i*seed_multiplier)\n",
    "    #set_random_seed(i*seed_multiplier)\n",
    "    tf.random.set_seed(i*seed_multiplier)\n",
    "\n",
    "    model = Sequential()\n",
    "    model.add(Dense(200, input_shape=(8,), activation='relu'))\n",
    "    model.add(Dense(150, activation='relu'))\n",
    "    model.add(Dense(100, activation='relu'))\n",
    "    model.add(Dense(50, activation='relu'))\n",
    "    model.add(Dense(25, activation='softmax'))\n",
    "    model.compile(optimizer=Adam(0.0002, 0.5),\n",
    "                  loss='categorical_crossentropy',\n",
    "                  metrics=['accuracy'])\n",
    "    \n",
    "    history_temp = model.fit(X_train_transformed,\n",
    "                            Y_train_encoded,\n",
    "                            epochs=mlp_epochs,\n",
    "                            batch_size=64,\n",
    "                            validation_split=valid_split,\n",
    "                            verbose=0)\n",
    "    history.append(history_temp)\n",
    "    test_loss, test_acc = model.evaluate(X_test_transformed, \n",
    "                                         Y_test_encoded, \n",
    "                                         verbose=0)\n",
    "\n",
    "    all_test_acc.append(test_acc)\n",
    "    all_test_loss.append(test_loss)\n",
    "    del(model)\n",
    "    clear_session()"
   ]
  },
  {
   "cell_type": "code",
   "execution_count": 86,
   "metadata": {
    "colab": {
     "base_uri": "https://localhost:8080/",
     "height": 545
    },
    "id": "pXnx7rbx2z6g",
    "outputId": "73f61154-1ed0-4646-81ef-be47784ac1d5"
   },
   "outputs": [
    {
     "data": {
      "image/png": "[encoded data removed]",
      "text/plain": [
       "<Figure size 432x288 with 1 Axes>"
      ]
     },
     "metadata": {
      "needs_background": "light"
     },
     "output_type": "display_data"
    },
    {
     "data": {
      "image/png": "[encoded data removed]",
      "text/plain": [
       "<Figure size 432x288 with 1 Axes>"
      ]
     },
     "metadata": {
      "needs_background": "light"
     },
     "output_type": "display_data"
    }
   ],
   "source": [
    "trainacc = []\n",
    "trainloss = []\n",
    "valacc = []\n",
    "valloss = []\n",
    "for i in range (len(history)):\n",
    "    trainacc.append(history[i].history['accuracy'])\n",
    "    trainloss.append(history[i].history['loss'])\n",
    "    valacc.append(history[i].history['val_accuracy'])\n",
    "    valloss.append(history[i].history['val_loss'])\n",
    "\n",
    "acc = np.mean(trainacc, axis=0)\n",
    "val_acc = np.mean(valacc, axis=0)\n",
    "loss = np.mean(trainloss, axis=0)\n",
    "val_loss = np.mean(valloss, axis=0)\n",
    "epochs = range(1, len(acc) + 1)\n",
    "\n",
    "plt.plot(epochs, acc, 'bo', label='Training acc')\n",
    "plt.plot(epochs, val_acc, 'b', label='Validation acc')\n",
    "plt.title('Training and validation accuracy for {}%'.format(fraction_of_data*100))\n",
    "plt.legend()\n",
    "plt.grid()\n",
    "plt.figure()\n",
    "plt.plot(epochs, loss, 'bo', label='Training loss')\n",
    "plt.plot(epochs, val_loss, 'b', label='Validation loss')\n",
    "plt.title('Training and validation loss for {}%'.format(fraction_of_data*100))\n",
    "plt.legend()\n",
    "plt.grid()\n",
    "plt.savefig(\"./results/original/Train - {}%.png\".format(fraction_of_data*100))"
   ]
  },
  {
   "cell_type": "markdown",
   "metadata": {
    "id": "M0wCrUPaM-Lx"
   },
   "source": [
    "# Generating Synthetic Data\n"
   ]
  },
  {
   "cell_type": "code",
   "execution_count": 87,
   "metadata": {
    "id": "BOSmX2NaNAAK"
   },
   "outputs": [],
   "source": [
    "def build_generator():\n",
    "    model = Sequential()\n",
    "    \n",
    "    model.add(Dense(256, input_dim=latent_dim))\n",
    "    model.add(LeakyReLU(alpha=0.2))\n",
    "    model.add(BatchNormalization(momentum=0.8))\n",
    "    model.add(Dense(512))\n",
    "    model.add(LeakyReLU(alpha=0.2))\n",
    "    model.add(BatchNormalization(momentum=0.8))\n",
    "    model.add(Dense(1024))\n",
    "    model.add(LeakyReLU(alpha=0.2))\n",
    "    model.add(BatchNormalization(momentum=0.8))\n",
    "    model.add(Dense(np.prod(data_shape), activation='tanh'))\n",
    "    model.add(Reshape(data_shape))\n",
    "\n",
    "    #model.summary()\n",
    "\n",
    "    noise = Input(shape=(latent_dim,))\n",
    "    gendata = model(noise)\n",
    "    \n",
    "    return Model(noise, gendata)"
   ]
  },
  {
   "cell_type": "code",
   "execution_count": 88,
   "metadata": {
    "id": "tSG_iHoLNJbB"
   },
   "outputs": [],
   "source": [
    "def build_discriminator():\n",
    "\n",
    "    model = Sequential()\n",
    "\n",
    "    model.add(Flatten(input_shape=data_shape))\n",
    "    model.add(Dense(512))\n",
    "    model.add(LeakyReLU(alpha=0.2))\n",
    "    model.add(Dense(256))\n",
    "    model.add(LeakyReLU(alpha=0.2))\n",
    "    model.add(Dense(1, activation='sigmoid'))\n",
    "\n",
    "    #model.summary()\n",
    "\n",
    "    data = Input(shape=data_shape)\n",
    "    validity = model(data)\n",
    "\n",
    "    return Model(data, validity)"
   ]
  },
  {
   "cell_type": "code",
   "execution_count": 89,
   "metadata": {
    "id": "CvGAwkWgNLep"
   },
   "outputs": [],
   "source": [
    "def train(epochs, features, batch_size=128):\n",
    "\n",
    "    valid = np.ones((batch_size, 1))\n",
    "    fake = np.zeros((batch_size, 1))\n",
    "\n",
    "    for epoch in range(epochs):\n",
    "            idx = np.random.randint(0, features.shape[0], batch_size)\n",
    "            data = features[idx]\n",
    "\n",
    "            noise = np.random.normal(0, 1, (batch_size, latent_dim))\n",
    "            gen_data = generator.predict(noise)\n",
    "\n",
    "            d_loss_real = discriminator.train_on_batch(data, valid)\n",
    "            d_loss_fake = discriminator.train_on_batch(gen_data, fake)\n",
    "            d_loss = 0.5 * np.add(d_loss_real, d_loss_fake)\n",
    "\n",
    "            noise = np.random.normal(0, 1, (batch_size, latent_dim))\n",
    "            g_loss = combined.train_on_batch(noise, valid)"
   ]
  },
  {
   "cell_type": "markdown",
   "metadata": {
    "id": "ajXvrtYHNfuo"
   },
   "source": [
    "**Training GAN**"
   ]
  },
  {
   "cell_type": "code",
   "execution_count": 90,
   "metadata": {
    "id": "oS3jdf5HNVsp"
   },
   "outputs": [
    {
     "name": "stderr",
     "output_type": "stream",
     "text": [
      "100%|██████████| 25/25 [1:27:02<00:00, 208.90s/it]\n"
     ]
    }
   ],
   "source": [
    "gen_data = []\n",
    "\n",
    "for i in tqdm(range(num_of_classes)):\n",
    "    discriminator = build_discriminator()\n",
    "    discriminator.compile(loss='binary_crossentropy',\n",
    "                          optimizer=Adam(0.0002, 0.5),\n",
    "                          metrics=['accuracy'])\n",
    "    \n",
    "    generator = build_generator()\n",
    "    noise = Input(shape=(latent_dim,))\n",
    "    gendata = generator(noise)\n",
    "    discriminator.trainable = False\n",
    "    validity = discriminator(gendata)\n",
    "    combined = Model(noise, validity)\n",
    "    combined.compile(loss='binary_crossentropy',\n",
    "                    optimizer=Adam(0.0002, 0.5))\n",
    "\n",
    "    minimaxscaler = MinMaxScaler((-1,1))\n",
    "    Z_train_transformed = minimaxscaler.fit_transform(Z_train[i])\n",
    "    Z_train_transformed = np.expand_dims(Z_train_transformed, axis=2)\n",
    "\n",
    "    train(epochs=gan_epochs,\n",
    "          features=Z_train_transformed,\n",
    "          batch_size=64)\n",
    "        \n",
    "    noise = np.random.normal(0, 1, (data_to_gen, latent_dim))\n",
    "    gen_data_temp = generator.predict(noise)\n",
    "    gen_data_temp = np.asarray(gen_data_temp, dtype=np.float32)\n",
    "    gen_data_temp = np.squeeze(gen_data_temp)\n",
    "    gen_data_temp = minimaxscaler.inverse_transform(gen_data_temp)\n",
    "\n",
    "    gen_data.append(gen_data_temp)\n",
    "\n",
    "    clear_session()\n",
    "    del(discriminator)\n",
    "    del(generator)\n",
    "    del(combined)\n",
    "\n",
    "gen_data = np.asarray(gen_data, dtype=np.float32)"
   ]
  },
  {
   "cell_type": "markdown",
   "metadata": {
    "id": "sdGw4QXJNvp6"
   },
   "source": [
    "# Classification with MLP for Real + Synthetic Data"
   ]
  },
  {
   "cell_type": "markdown",
   "metadata": {
    "id": "Uwjms7RUwAT9"
   },
   "source": [
    "**Preprocess synthetic data**"
   ]
  },
  {
   "cell_type": "code",
   "execution_count": 91,
   "metadata": {
    "id": "ssYq_Q_z6hZ-"
   },
   "outputs": [],
   "source": [
    "gen_label = []\n",
    "for i in range(25):\n",
    "    gen_label_temp = np.tile(i, data_to_gen)\n",
    "    gen_label.extend(gen_label_temp)\n",
    "\n",
    "gen_label = np.asarray(gen_label, dtype=np.float32)\n",
    "gen_label_encoded = to_categorical(gen_label)"
   ]
  },
  {
   "cell_type": "code",
   "execution_count": 92,
   "metadata": {
    "id": "VbZDEbHCNzES"
   },
   "outputs": [],
   "source": [
    "gen_data_reshaped = gen_data.reshape(num_of_classes*data_to_gen, data_shape[0])\n",
    "\n",
    "X_train_gan, Y_train_gan = shuffle(gen_data_reshaped,\n",
    "                                   gen_label_encoded, \n",
    "                                   random_state=5)\n"
   ]
  },
  {
   "cell_type": "code",
   "execution_count": 93,
   "metadata": {},
   "outputs": [],
   "source": [
    "df=pd.DataFrame(gen_data_reshaped)\n",
    "df.to_csv(\"syn_dataset_joko125 - {}%.csv\".format(fraction_of_data*100))#edit"
   ]
  },
  {
   "cell_type": "code",
   "execution_count": 94,
   "metadata": {
    "id": "WttAbdqfBxif"
   },
   "outputs": [],
   "source": [
    "new_x_train = np.concatenate((X_train, X_train_gan), axis=0)\n",
    "new_y_train = np.concatenate((Y_train_encoded, Y_train_gan), axis=0)\n",
    "\n",
    "new_x_train, new_y_train = shuffle(new_x_train, new_y_train, random_state=15)\n",
    "new_x_train_transformed = scaler.fit_transform(new_x_train)"
   ]
  },
  {
   "cell_type": "markdown",
   "metadata": {
    "id": "f8axOzjLPoYL"
   },
   "source": [
    "**Train a new MLP on Real+Synthetic Data**"
   ]
  },
  {
   "cell_type": "code",
   "execution_count": 95,
   "metadata": {
    "id": "vERjg_OLPav6"
   },
   "outputs": [
    {
     "name": "stderr",
     "output_type": "stream",
     "text": [
      "C:\\Users\\KMITL\\AppData\\Local\\Temp/ipykernel_19028/4255249426.py:5: TqdmDeprecationWarning: This function will be removed in tqdm==5.0.0\n",
      "Please use `tqdm.notebook.tqdm` instead of `tqdm.tqdm_notebook`\n",
      "  for i in tqdm_notebook(range(50)):\n"
     ]
    },
    {
     "data": {
      "application/vnd.jupyter.widget-view+json": {
       "model_id": "4277a064c1b8499cb686fc71aaf92e21",
       "version_major": 2,
       "version_minor": 0
      },
      "text/plain": [
       "  0%|          | 0/50 [00:00<?, ?it/s]"
      ]
     },
     "metadata": {},
     "output_type": "display_data"
    },
    {
     "name": "stdout",
     "output_type": "stream",
     "text": [
      "#0 Test acc: 0.7428115010261536\n",
      "#1 Test acc: 0.7284345030784607\n",
      "#2 Test acc: 0.7220447063446045\n",
      "#3 Test acc: 0.7236421704292297\n",
      "#4 Test acc: 0.725239634513855\n",
      "#5 Test acc: 0.720447301864624\n",
      "#6 Test acc: 0.7172523736953735\n",
      "#7 Test acc: 0.7076677083969116\n",
      "#8 Test acc: 0.7460063695907593\n",
      "#9 Test acc: 0.7172523736953735\n",
      "#10 Test acc: 0.7396166324615479\n",
      "#11 Test acc: 0.7316293716430664\n",
      "#12 Test acc: 0.7348242998123169\n",
      "#13 Test acc: 0.7236421704292297\n",
      "#14 Test acc: 0.7476038336753845\n",
      "#15 Test acc: 0.7124600410461426\n",
      "#16 Test acc: 0.7316293716430664\n",
      "#17 Test acc: 0.7284345030784607\n",
      "#18 Test acc: 0.7300319671630859\n",
      "#19 Test acc: 0.7092651724815369\n",
      "#20 Test acc: 0.720447301864624\n",
      "#21 Test acc: 0.7220447063446045\n",
      "#22 Test acc: 0.7300319671630859\n",
      "#23 Test acc: 0.7316293716430664\n",
      "#24 Test acc: 0.7332268357276917\n",
      "#25 Test acc: 0.7076677083969116\n",
      "#26 Test acc: 0.7236421704292297\n",
      "#27 Test acc: 0.7268370389938354\n",
      "#28 Test acc: 0.7507987022399902\n",
      "#29 Test acc: 0.7396166324615479\n",
      "#30 Test acc: 0.7092651724815369\n",
      "#31 Test acc: 0.7156549692153931\n",
      "#32 Test acc: 0.7396166324615479\n",
      "#33 Test acc: 0.7108626365661621\n",
      "#34 Test acc: 0.7172523736953735\n",
      "#35 Test acc: 0.7380191683769226\n",
      "#36 Test acc: 0.7428115010261536\n",
      "#37 Test acc: 0.7220447063446045\n",
      "#38 Test acc: 0.7316293716430664\n",
      "#39 Test acc: 0.7268370389938354\n",
      "#40 Test acc: 0.7332268357276917\n",
      "#41 Test acc: 0.7380191683769226\n",
      "#42 Test acc: 0.7092651724815369\n",
      "#43 Test acc: 0.7412140369415283\n",
      "#44 Test acc: 0.720447301864624\n",
      "#45 Test acc: 0.7284345030784607\n",
      "#46 Test acc: 0.725239634513855\n",
      "#47 Test acc: 0.7236421704292297\n",
      "#48 Test acc: 0.7444089651107788\n",
      "#49 Test acc: 0.7140575051307678\n"
     ]
    }
   ],
   "source": [
    "all_test_loss_gan =[]\n",
    "all_test_acc_gan = []\n",
    "ganhistory = []\n",
    "\n",
    "for i in tqdm_notebook(range(50)):\n",
    "    seed(i*seed_multiplier)\n",
    "    tf.random.set_seed(i*seed_multiplier)\n",
    "\n",
    "    model = Sequential()\n",
    "    model.add(Dense(200, input_shape=(8,), activation='relu'))\n",
    "    model.add(Dense(150, activation='relu'))\n",
    "    model.add(Dense(100, activation='relu'))\n",
    "    model.add(Dense(50, activation='relu'))\n",
    "    model.add(Dense(25, activation='softmax'))\n",
    "\n",
    "    model.compile(optimizer=Adam(0.0002, 0.5),\n",
    "                  loss='categorical_crossentropy',\n",
    "                  metrics=['accuracy'])\n",
    "\n",
    "    ganhistorytemp = model.fit(new_x_train_transformed,\n",
    "                    new_y_train,\n",
    "                    epochs=mlp_epochs,\n",
    "                    batch_size=64,\n",
    "                    validation_split=valid_split,\n",
    "                    verbose = 0)\n",
    "    ganhistory.append(ganhistorytemp)\n",
    "\n",
    "    test_loss, test_acc = model.evaluate(X_test_transformed, \n",
    "                                         Y_test_encoded, \n",
    "                                         verbose=0)\n",
    "    print(\"#{} Test acc:\".format(i), test_acc)\n",
    "\n",
    "    all_test_acc_gan.append(test_acc)\n",
    "    all_test_loss_gan.append(test_loss)\n",
    "    del(model)\n",
    "    clear_session()"
   ]
  },
  {
   "cell_type": "code",
   "execution_count": 96,
   "metadata": {
    "id": "ZcAwt0sVqAvc"
   },
   "outputs": [
    {
     "data": {
      "image/png": "[encoded data removed]",
      "text/plain": [
       "<Figure size 432x288 with 1 Axes>"
      ]
     },
     "metadata": {
      "needs_background": "light"
     },
     "output_type": "display_data"
    },
    {
     "data": {
      "image/png": "[encoded data removed]",
      "text/plain": [
       "<Figure size 432x288 with 1 Axes>"
      ]
     },
     "metadata": {
      "needs_background": "light"
     },
     "output_type": "display_data"
    }
   ],
   "source": [
    "gantrainacc = []\n",
    "gantrainloss = []\n",
    "ganvalacc = []\n",
    "ganvalloss = []\n",
    "for i in range (len(ganhistory)):\n",
    "    gantrainacc.append(ganhistory[i].history['accuracy']) #val accuracy\n",
    "    gantrainloss.append(ganhistory[i].history['loss'])\n",
    "    ganvalacc.append(ganhistory[i].history['val_accuracy'])\n",
    "    ganvalloss.append(ganhistory[i].history['val_loss'])\n",
    "\n",
    "gan_acc = np.mean(gantrainacc, axis=0)\n",
    "gan_val_acc = np.mean(ganvalacc, axis=0)\n",
    "gan_loss = np.mean(gantrainloss, axis=0)\n",
    "gan_val_loss = np.mean(ganvalloss, axis=0)\n",
    "epochs = range(1, len(gan_acc) + 1)\n",
    "plt.plot(epochs, gan_acc, 'bo', label='Training acc')\n",
    "plt.plot(epochs, gan_val_acc, 'b', label='Validation acc')\n",
    "plt.title('Training and validation accuracy for {}%'.format(fraction_of_data*100))\n",
    "plt.legend()\n",
    "plt.grid()\n",
    "plt.figure()\n",
    "plt.plot(epochs, gan_loss, 'bo', label='Training loss')\n",
    "plt.plot(epochs, gan_val_loss, 'b', label='Validation loss')\n",
    "plt.title('Training and validation loss for {}%'.format(fraction_of_data*100))\n",
    "plt.legend()\n",
    "plt.grid()\n",
    "plt.savefig(\"./results/GAN/Train_Joko - {}%.png\".format(fraction_of_data*100)) #edit"
   ]
  },
  {
   "cell_type": "markdown",
   "metadata": {
    "id": "0ngBfCAl2sSW"
   },
   "source": [
    "# Save Results"
   ]
  },
  {
   "cell_type": "code",
   "execution_count": 97,
   "metadata": {
    "id": "vWOLAHG8xWu2"
   },
   "outputs": [],
   "source": [
    "AccMean = np.mean(all_test_acc)\n",
    "LossMean = np.mean(all_test_loss)\n",
    "AccStd = np.std(all_test_acc)\n",
    "LossStd = np.std(all_test_loss)\n",
    "\n",
    "GanAccMean = np.mean(all_test_acc_gan)\n",
    "GanLossMean = np.mean(all_test_loss_gan)\n",
    "GanAccStd = np.std(all_test_acc_gan)\n",
    "GanLossStd = np.std(all_test_loss_gan)\n",
    "\n",
    "lines  = list()\n",
    "lines.append(\"Original Data (Each Class: {} Real):\".format(num_of_data))\n",
    "lines.append(\"Accuracy mean: {}\".format(AccMean))\n",
    "lines.append(\"Loss mean: {}\".format(LossMean))\n",
    "lines.append(\"Accuracy STD: {}\".format(AccStd))\n",
    "lines.append(\"Loss STD: {} \\n\".format(LossStd))\n",
    "lines.append(\"Maximum Accuracy: {}\".format(np.max(all_test_acc)))\n",
    "lines.append(\"Loss of Maximum Accuracy: {}\".format(\n",
    "    all_test_loss[np.argmax(all_test_acc)]))\n",
    "\n",
    "lines.append(\"\\n ================== \\n\")\n",
    "lines.append(\"Original + GAN Data\" +\n",
    "             \"(Each Class: {} Real + {} GAN):\".format(num_of_data, \n",
    "                                                      data_to_gen))\n",
    "lines.append(\"Accuracy mean: {}\".format(GanAccMean))\n",
    "lines.append(\"Loss mean: {}\".format(GanLossMean))\n",
    "lines.append(\"Accuracy STD: {}\".format(GanAccStd))\n",
    "lines.append(\"Loss STD: {} \\n\".format(GanLossStd))\n",
    "lines.append(\"Maximum Accuracy: {}\".format(np.max(all_test_acc_gan)))\n",
    "lines.append(\"Loss of Maximum Accuracy: {}\".format(\n",
    "    all_test_loss_gan[np.argmax(all_test_acc_gan)]))\n",
    "\n",
    "\n",
    "file_dir = \"./results/Test_Joko125 - {}%.txt\".format(fraction_of_data*100)\n",
    "with open(file_dir, \"w\") as filehandle:\n",
    "    for items in lines:\n",
    "        filehandle.write('%s\\n' % items)"
   ]
  },
  {
   "cell_type": "code",
   "execution_count": null,
   "metadata": {},
   "outputs": [],
   "source": []
  }
 ],
 "metadata": {
  "colab": {
   "collapsed_sections": [],
   "name": "Localization.ipynb",
   "provenance": [],
   "toc_visible": true
  },
  "kernelspec": {
   "display_name": "Python 3 (ipykernel)",
   "language": "python",
   "name": "python3"
  },
  "language_info": {
   "codemirror_mode": {
    "name": "ipython",
    "version": 3
   },
   "file_extension": ".py",
   "mimetype": "text/x-python",
   "name": "python",
   "nbconvert_exporter": "python",
   "pygments_lexer": "ipython3",
   "version": "3.9.7"
  },
  "widgets": {
   "application/vnd.jupyter.widget-state+json": {
    "07ca9dda197f46e391f911867de47da6": {
     "model_module": "@jupyter-widgets/controls",
     "model_name": "ProgressStyleModel",
     "state": {
      "_model_module": "@jupyter-widgets/controls",
      "_model_module_version": "1.5.0",
      "_model_name": "ProgressStyleModel",
      "_view_count": null,
      "_view_module": "@jupyter-widgets/base",
      "_view_module_version": "1.2.0",
      "_view_name": "StyleView",
      "bar_color": null,
      "description_width": "initial"
     }
    },
    "149f19108d984a6e8ec835992c0f75a2": {
     "model_module": "@jupyter-widgets/controls",
     "model_name": "DescriptionStyleModel",
     "state": {
      "_model_module": "@jupyter-widgets/controls",
      "_model_module_version": "1.5.0",
      "_model_name": "DescriptionStyleModel",
      "_view_count": null,
      "_view_module": "@jupyter-widgets/base",
      "_view_module_version": "1.2.0",
      "_view_name": "StyleView",
      "description_width": ""
     }
    },
    "187a15988ac943e6a3d1855725d1115a": {
     "model_module": "@jupyter-widgets/controls",
     "model_name": "HTMLModel",
     "state": {
      "_dom_classes": [],
      "_model_module": "@jupyter-widgets/controls",
      "_model_module_version": "1.5.0",
      "_model_name": "HTMLModel",
      "_view_count": null,
      "_view_module": "@jupyter-widgets/controls",
      "_view_module_version": "1.5.0",
      "_view_name": "HTMLView",
      "description": "",
      "description_tooltip": null,
      "layout": "IPY_MODEL_99a69a686ef44dd3bac52523cfa3febe",
      "placeholder": "​",
      "style": "IPY_MODEL_149f19108d984a6e8ec835992c0f75a2",
      "value": " 50/50 [03:20&lt;00:00,  4.00s/it]"
     }
    },
    "1c12d3a5f44f4a61bbeb2aa7a499fcfb": {
     "model_module": "@jupyter-widgets/base",
     "model_name": "LayoutModel",
     "state": {
      "_model_module": "@jupyter-widgets/base",
      "_model_module_version": "1.2.0",
      "_model_name": "LayoutModel",
      "_view_count": null,
      "_view_module": "@jupyter-widgets/base",
      "_view_module_version": "1.2.0",
      "_view_name": "LayoutView",
      "align_content": null,
      "align_items": null,
      "align_self": null,
      "border": null,
      "bottom": null,
      "display": null,
      "flex": null,
      "flex_flow": null,
      "grid_area": null,
      "grid_auto_columns": null,
      "grid_auto_flow": null,
      "grid_auto_rows": null,
      "grid_column": null,
      "grid_gap": null,
      "grid_row": null,
      "grid_template_areas": null,
      "grid_template_columns": null,
      "grid_template_rows": null,
      "height": null,
      "justify_content": null,
      "justify_items": null,
      "left": null,
      "margin": null,
      "max_height": null,
      "max_width": null,
      "min_height": null,
      "min_width": null,
      "object_fit": null,
      "object_position": null,
      "order": null,
      "overflow": null,
      "overflow_x": null,
      "overflow_y": null,
      "padding": null,
      "right": null,
      "top": null,
      "visibility": null,
      "width": null
     }
    },
    "242638032f3d448497a89e566a0729cc": {
     "model_module": "@jupyter-widgets/controls",
     "model_name": "HBoxModel",
     "state": {
      "_dom_classes": [],
      "_model_module": "@jupyter-widgets/controls",
      "_model_module_version": "1.5.0",
      "_model_name": "HBoxModel",
      "_view_count": null,
      "_view_module": "@jupyter-widgets/controls",
      "_view_module_version": "1.5.0",
      "_view_name": "HBoxView",
      "box_style": "",
      "children": [
       "IPY_MODEL_c8784995eaa54ed084acc9f12a746c59",
       "IPY_MODEL_187a15988ac943e6a3d1855725d1115a"
      ],
      "layout": "IPY_MODEL_1c12d3a5f44f4a61bbeb2aa7a499fcfb"
     }
    },
    "99a69a686ef44dd3bac52523cfa3febe": {
     "model_module": "@jupyter-widgets/base",
     "model_name": "LayoutModel",
     "state": {
      "_model_module": "@jupyter-widgets/base",
      "_model_module_version": "1.2.0",
      "_model_name": "LayoutModel",
      "_view_count": null,
      "_view_module": "@jupyter-widgets/base",
      "_view_module_version": "1.2.0",
      "_view_name": "LayoutView",
      "align_content": null,
      "align_items": null,
      "align_self": null,
      "border": null,
      "bottom": null,
      "display": null,
      "flex": null,
      "flex_flow": null,
      "grid_area": null,
      "grid_auto_columns": null,
      "grid_auto_flow": null,
      "grid_auto_rows": null,
      "grid_column": null,
      "grid_gap": null,
      "grid_row": null,
      "grid_template_areas": null,
      "grid_template_columns": null,
      "grid_template_rows": null,
      "height": null,
      "justify_content": null,
      "justify_items": null,
      "left": null,
      "margin": null,
      "max_height": null,
      "max_width": null,
      "min_height": null,
      "min_width": null,
      "object_fit": null,
      "object_position": null,
      "order": null,
      "overflow": null,
      "overflow_x": null,
      "overflow_y": null,
      "padding": null,
      "right": null,
      "top": null,
      "visibility": null,
      "width": null
     }
    },
    "ad1a4cf935e544fa91265778f15ff117": {
     "model_module": "@jupyter-widgets/base",
     "model_name": "LayoutModel",
     "state": {
      "_model_module": "@jupyter-widgets/base",
      "_model_module_version": "1.2.0",
      "_model_name": "LayoutModel",
      "_view_count": null,
      "_view_module": "@jupyter-widgets/base",
      "_view_module_version": "1.2.0",
      "_view_name": "LayoutView",
      "align_content": null,
      "align_items": null,
      "align_self": null,
      "border": null,
      "bottom": null,
      "display": null,
      "flex": null,
      "flex_flow": null,
      "grid_area": null,
      "grid_auto_columns": null,
      "grid_auto_flow": null,
      "grid_auto_rows": null,
      "grid_column": null,
      "grid_gap": null,
      "grid_row": null,
      "grid_template_areas": null,
      "grid_template_columns": null,
      "grid_template_rows": null,
      "height": null,
      "justify_content": null,
      "justify_items": null,
      "left": null,
      "margin": null,
      "max_height": null,
      "max_width": null,
      "min_height": null,
      "min_width": null,
      "object_fit": null,
      "object_position": null,
      "order": null,
      "overflow": null,
      "overflow_x": null,
      "overflow_y": null,
      "padding": null,
      "right": null,
      "top": null,
      "visibility": null,
      "width": null
     }
    },
    "c8784995eaa54ed084acc9f12a746c59": {
     "model_module": "@jupyter-widgets/controls",
     "model_name": "FloatProgressModel",
     "state": {
      "_dom_classes": [],
      "_model_module": "@jupyter-widgets/controls",
      "_model_module_version": "1.5.0",
      "_model_name": "FloatProgressModel",
      "_view_count": null,
      "_view_module": "@jupyter-widgets/controls",
      "_view_module_version": "1.5.0",
      "_view_name": "ProgressView",
      "bar_style": "success",
      "description": "100%",
      "description_tooltip": null,
      "layout": "IPY_MODEL_ad1a4cf935e544fa91265778f15ff117",
      "max": 50,
      "min": 0,
      "orientation": "horizontal",
      "style": "IPY_MODEL_07ca9dda197f46e391f911867de47da6",
      "value": 50
     }
    }
   }
  }
 },
 "nbformat": 4,
 "nbformat_minor": 1
}
